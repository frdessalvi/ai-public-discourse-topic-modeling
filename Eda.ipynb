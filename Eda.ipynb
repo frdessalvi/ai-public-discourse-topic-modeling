{
 "cells": [
  {
   "cell_type": "markdown",
   "id": "aa9fc52c",
   "metadata": {},
   "source": [
    "<font size=\"6\"><b>EDA</b></font>  \n",
    "The objective of this notebook is to perform exploratory data analysis on the data. This analysis is fundamental in order to  understand the composition of the dataset and perform the necessary pre-processing."
   ]
  },
  {
   "cell_type": "code",
   "execution_count": 1,
   "id": "0d258e75",
   "metadata": {},
   "outputs": [],
   "source": [
    "import pandas as pd \n",
    "import matplotlib.pyplot as plt \n",
    "import re \n",
    "from sklearn.feature_extraction.text import CountVectorizer\n",
    "from langdetect import detect"
   ]
  },
  {
   "cell_type": "code",
   "execution_count": 2,
   "id": "6f24af95",
   "metadata": {},
   "outputs": [
    {
     "name": "stdout",
     "output_type": "stream",
     "text": [
      "Serial       0\n",
      "Tweets       0\n",
      "Sentiment    1\n",
      "dtype: int64\n",
      "25234\n"
     ]
    }
   ],
   "source": [
    "df=pd.read_csv('Final Tweets.csv')\n",
    "\n",
    "# Checking for null values \n",
    "print(df.isnull().sum()) \n",
    "df=df.dropna()\n",
    "\n",
    "print(df.shape[0])"
   ]
  },
  {
   "cell_type": "markdown",
   "id": "c1a438d8",
   "metadata": {},
   "source": [
    "By sampling randomly from the data we observed that a subset of the tweets were in French. As the dataset was not manually curated by us and was obtained through web scraping, the presence of outliers is a possibility. Therefore, a crucial step in the analysis process is to eliminate the tweets in languages other than English."
   ]
  },
  {
   "cell_type": "code",
   "execution_count": 3,
   "id": "3d4ca757",
   "metadata": {},
   "outputs": [
    {
     "name": "stdout",
     "output_type": "stream",
     "text": [
      "Error detecting language for serial 9258: No features in text.\n",
      "Number of non-English tweets that will be removed: 2397\n",
      "Remaining rows after removal: 22837\n"
     ]
    }
   ],
   "source": [
    "def identify_non_en_tweets(df):\n",
    "    serials = []\n",
    "    \n",
    "    for index, row in df.iterrows():\n",
    "        try:\n",
    "            if detect(row['Tweets']) != 'en':  # Check if tweet is not in English\n",
    "                serials.append(row['Serial'])\n",
    "        except Exception as e:\n",
    "            print(f\"Error detecting language for serial {row['Serial']}: {e}\")\n",
    "    \n",
    "    return serials\n",
    "\n",
    "non_english_serials = identify_non_en_tweets(df)\n",
    "print('Number of non-English tweets that will be removed:', len(non_english_serials))\n",
    "\n",
    "df = df[~df['Serial'].isin(non_english_serials)]\n",
    "print('Remaining rows after removal:', df.shape[0])"
   ]
  },
  {
   "cell_type": "markdown",
   "id": "a52d8495",
   "metadata": {},
   "source": [
    "The previous process discarded a non-irrelevant number of tweets (2397). The next part of the analysis is specific to Twitter data and involves removing non-ASCII characters, urls, usernames, etc."
   ]
  },
  {
   "cell_type": "code",
   "execution_count": 7,
   "id": "a164d17c",
   "metadata": {},
   "outputs": [
    {
     "name": "stdout",
     "output_type": "stream",
     "text": [
      "Some tweets contain non Ascii characters\n",
      "After removing non Ascii char these tweets were empty: 1\n",
      "Current number of Tweets: 22824\n"
     ]
    }
   ],
   "source": [
    "# Get all non-ASCII characters\n",
    "non_ascii_chars = set(''.join(df['Tweets'].dropna()))\n",
    "non_ascii_chars = {c for c in non_ascii_chars if ord(c) > 127}\n",
    "if non_ascii_chars:\n",
    "    print('Some tweets contain non Ascii characters')\n",
    "\n",
    "# After having verified that there are non ascii characters in the tweets we remove them\n",
    "def remove_non_ascii(text):\n",
    "    return re.sub(r'[^\\x00-\\x7F]+', '', str(text))\n",
    "\n",
    "df['Tweets']=df['Tweets'].apply(remove_non_ascii)\n",
    "\n",
    "# Now if some tweets became empty I discard them \n",
    "empty_tweets_serial = df.loc[df['Tweets'].str.strip() == '', 'Serial'].tolist()\n",
    "\n",
    "if empty_tweets_serial:\n",
    "    df = df[~df['Serial'].isin(empty_tweets_serial)]\n",
    "    print('After removing non Ascii char these tweets were empty:',len(empty_tweets_serial))\n",
    "    \n",
    "df=df.drop_duplicates(subset='Tweets', keep='first')\n",
    "\n",
    "print('Current number of Tweets:',df.shape[0])"
   ]
  },
  {
   "cell_type": "markdown",
   "id": "a88f57e5",
   "metadata": {},
   "source": [
    " Before the pre-processing is completed, a copy of the current dataframe is saved. This is used to extract the split that the annotators need to annotate. This choice was made because we found that the text of the tweet was more comprehensible overall if all hashtags and URLs were retained. "
   ]
  },
  {
   "cell_type": "code",
   "execution_count": 8,
   "id": "541a6bae",
   "metadata": {},
   "outputs": [],
   "source": [
    "original_df=df.copy()\n",
    "\n",
    "# Create a subset of tweets on which to perform manual annotation \n",
    "n_positive=400\n",
    "n_neutral=300\n",
    "n_negative= 300 \n",
    "\n",
    "negatives = original_df[original_df['Sentiment'] == 'negative'].sample(n=n_negative, random_state=42)\n",
    "positives = original_df[original_df['Sentiment'] == 'positive'].sample(n=n_positive, random_state=42)\n",
    "neutrals  = original_df[original_df['Sentiment'] == 'neutral'].sample(n=n_neutral, random_state=42)\n",
    "\n",
    "# Combine into one DataFrame\n",
    "baseline_df = pd.concat([negatives, positives, neutrals]).sample(frac=1, random_state=42).reset_index(drop=True)\n",
    "\n",
    "baseline_df[['Serial','Tweets']].to_csv('Baseline for annotations.csv', index= False) \n"
   ]
  },
  {
   "cell_type": "code",
   "execution_count": null,
   "id": "8235a941",
   "metadata": {},
   "outputs": [
    {
     "name": "stdout",
     "output_type": "stream",
     "text": [
      "Some tweets contain mentions\n",
      "Before removing duplicates second time 22824\n",
      "After removing duplicates second time 22548\n"
     ]
    }
   ],
   "source": [
    "df['Tweets']=df['Tweets'].str.lower()\n",
    "df['Sentiment']=df['Sentiment'].str.lower()\n",
    " \n",
    "# Removing urls\n",
    "def remove_url(text):\n",
    "    url_pattern= r'http\\S+|www\\S+'\n",
    "    return re.sub(url_pattern,'',text)\n",
    "\n",
    "df['Tweets']=df['Tweets'].apply(remove_url)\n",
    "\n",
    "# Check for any tweets containing mentions (@username)\n",
    "mentions_mask = df['Tweets'].str.contains(r'@\\w+', regex=True)\n",
    "\n",
    "if mentions_mask.any():\n",
    "    print('Some tweets contain mentions')\n",
    "else:\n",
    "    print('There are no user mentions in the data')\n",
    "\n",
    "# Since there are tweets with mentions I must remove the mention \n",
    "def remove_mention(text):\n",
    "    mention_pattern= r'@\\w+'\n",
    "    return re.sub(mention_pattern,'',text)\n",
    "\n",
    "df['Tweets']=df['Tweets'].apply(remove_mention)\n",
    "\n",
    "# Removing hashtag symbol \n",
    "def remove_hashtag_symbol(text):\n",
    "    return re.sub(r'#', '', text)\n",
    "\n",
    "df['Tweets'] = df['Tweets'].apply(remove_hashtag_symbol)\n",
    "\n",
    "# Dropping duplicates once again since after having removed hashtags and mentions some tweets might have the same text\n",
    "print('Before removing duplicates second time',df.shape[0])\n",
    "df=df.drop_duplicates(subset='Tweets', keep='first')\n",
    "print('After removing duplicates second time',df.shape[0])\n",
    "\n",
    "# Saving this clean dataset:\n",
    "df[['Serial','Tweets']].to_csv('Cleaned data.csv', index=False)\n",
    "\n"
   ]
  },
  {
   "cell_type": "markdown",
   "id": "2c6af050",
   "metadata": {},
   "source": [
    "To get a sense of the themes present in the data, we did some basic analysis at this stage. We identified the most common bigrams (this already gives an idea of the orientation of the tweets) and then plotted the different distribution of negative, positive and neutral labels across the tweets. This distribution is then compared with what was obtained by fine-tuning the model on manually annotated data."
   ]
  },
  {
   "cell_type": "code",
   "execution_count": 4,
   "id": "4bee98c7",
   "metadata": {},
   "outputs": [
    {
     "name": "stdout",
     "output_type": "stream",
     "text": [
      "                 bigram  count\n",
      "13949         ai taking   2060\n",
      "231294      taking jobs   1742\n",
      "252207         using ai   1698\n",
      "10624           ai bots    767\n",
      "10618            ai bot    709\n",
      "185317  problem solving    696\n",
      "183012       problem ai    676\n",
      "231290       taking job    530\n",
      "14340            ai war    469\n",
      "33391       bot problem    466\n"
     ]
    },
    {
     "data": {
      "image/png": "[encoded data removed]",
      "text/plain": [
       "<Figure size 1400x600 with 2 Axes>"
      ]
     },
     "metadata": {},
     "output_type": "display_data"
    }
   ],
   "source": [
    "# Analysis on most frequent bigrams: \n",
    "tweets = df['Tweets'].tolist()\n",
    "vectorizer=CountVectorizer(ngram_range=(2,2),stop_words='english')\n",
    "matrix=vectorizer.fit_transform(tweets)\n",
    "\n",
    "# Sum the counts of each bigram\n",
    "bigram_counts = matrix.sum(axis=0).A1\n",
    "bigram_vocab = vectorizer.get_feature_names_out()\n",
    "\n",
    "# Combine into a DataFrame for easy viewing\n",
    "bigram_df = pd.DataFrame({'bigram': bigram_vocab, 'count': bigram_counts})\n",
    "bigram_df = bigram_df.sort_values(by='count', ascending=False)\n",
    "\n",
    "print(bigram_df.head(10))\n",
    "\n",
    "# Create a figure with two subplots of labels\n",
    "fig, axes = plt.subplots(1, 2, figsize=(14, 6))  # 1 row, 2 columns\n",
    "sentiment_order = ['negative', 'neutral', 'positive'] # Explicitly define categories order to make it consistent between plots \n",
    "\n",
    "df['Sentiment'].value_counts().reindex(sentiment_order).plot(kind='bar', ax=axes[0], title='Sentiment Distribution (Original)', color=plt.cm.Paired(range(len(sentiment_order))))\n",
    "axes[0].set_xlabel('Sentiment')\n",
    "axes[0].set_ylabel('Tweets count')\n",
    "\n",
    "\n",
    "df_annotated = pd.read_csv('Labeled tweets final.csv')\n",
    "label_map = {2: 'positive', 1: 'neutral', 0: 'negative'}\n",
    "df_annotated['predicted_label'] = df_annotated['predicted_label'].map(label_map)\n",
    "\n",
    "df_annotated['predicted_label'].value_counts().reindex(sentiment_order).plot(kind='bar', ax=axes[1], title='Sentiment Distribution (Predicted)', color=plt.cm.Paired(range(len(sentiment_order))))\n",
    "axes[1].set_xlabel('Sentiment')\n",
    "axes[1].set_ylabel('Tweets count')\n",
    "\n",
    "plt.tight_layout()\n",
    "plt.show()\n"
   ]
  }
 ],
 "metadata": {
  "kernelspec": {
   "display_name": "base",
   "language": "python",
   "name": "python3"
  },
  "language_info": {
   "codemirror_mode": {
    "name": "ipython",
    "version": 3
   },
   "file_extension": ".py",
   "mimetype": "text/x-python",
   "name": "python",
   "nbconvert_exporter": "python",
   "pygments_lexer": "ipython3",
   "version": "3.12.3"
  }
 },
 "nbformat": 4,
 "nbformat_minor": 5
}
